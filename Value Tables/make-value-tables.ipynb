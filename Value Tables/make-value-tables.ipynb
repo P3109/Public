{
 "cells": [
  {
   "cell_type": "markdown",
   "id": "6f604580",
   "metadata": {
    "colab_type": "text",
    "id": "view-in-github"
   },
   "source": [
    "<a href=\"https://colab.research.google.com/github/P3109/Public/blob/main/Value%20Tables/make-value-tables.ipynb\" target=\"_parent\"><img src=\"https://colab.research.google.com/assets/colab-badge.svg\" alt=\"Open In Colab\"/></a>"
]
  },
  {
   "cell_type": "markdown",
   "id": "2e93da18",
   "metadata": {
    "id": "XwVCGo9Fhvgp"
   },
   "source": [
    "## Value tables of 8-bit floating point formats\n",
    "\n",
    "This code allows the reader to experiment with properties of FP8 formats, and is produced in conjunction with the work of the IEEE P3109 working group on\n",
    "floating point formats for machine learning, although is *not* an official output of that group.\n",
    "\n",
    "The public outputs of of the group are available at https://github.com/P3109/Public and the interim report is at [PDF](https://github.com/P3109/Public/blob/main/Shared%20Reports/P3109%20WG%20Interim%20report.pdf)\n",
    "\n",
    "The code here is low quality experimental code intended to allow quick experimentation across a range of formats.\n",
    "\n",
    "Higher quality code is at https://github.com/awf/ml_dtypes_p3109/pull/1."
   ]
  },
  {
   "cell_type": "code",
   "execution_count": null,
   "id": "a807137c",
   "metadata": {
    "colab": {
     "base_uri": "https://localhost:8080/"
    },
    "id": "y44XW3HnfU5c",
    "outputId": "a155fc78-0d3a-40a2-ccbe-cf13207a3411"
   },
   "outputs": [],
   "source": [
    "%pip install airium"
   ]
  },
  {
   "cell_type": "code",
   "execution_count": null,
   "id": "f74b6c0b",
   "metadata": {
    "id": "eohWO_MWtSE4"
   },
   "outputs": [],
   "source": [
    "from enum import Enum\n",
    "from dataclasses import dataclass\n",
    "import numpy as np\n",
    "import airium\n",
    "import pandas\n",
    "from IPython.display import HTML\n",
    "\n",
    "# Throw on overflow\n",
    "np.seterr(over='raise')\n",
    "\n",
    "def fstr(v):\n",
    "  \"\"\"\n",
    "  Format special values as NaN,+/-Inf\n",
    "  \"\"\"\n",
    "  if np.isfinite(v):\n",
    "    return str(v)\n",
    "  if np.isnan(v):\n",
    "    return 'NaN'\n",
    "  if v == np.inf:\n",
    "    return \"+Inf\"\n",
    "  if v == -np.inf:\n",
    "    return \"-Inf\"\n",
    "  raise ValueError(f\"Bad {v=}\")"
   ]
  },
  {
   "cell_type": "markdown",
   "id": "01e7320f",
   "metadata": {
    "id": "eZn-CPStHLCS"
   },
   "source": [
    "## FormatInfo\n",
    "\n",
    "A small dataclass holding format information.  \n"
   ]
  },
  {
   "cell_type": "code",
   "execution_count": null,
   "id": "5615abc8",
   "metadata": {
    "colab": {
     "base_uri": "https://localhost:8080/",
     "height": 363
    },
    "id": "H35Ojl9gHhUn",
    "outputId": "8d5500e8-c7dc-4c01-801b-799922e3538d"
   },
   "outputs": [],
   "source": [
    "@dataclass\n",
    "class FormatInfo:\n",
    "  name: str\n",
    "  precision: int\n",
    "  emax: int\n",
    "  significandBits: int\n",
    "  expBits: int\n",
    "  expBias: int\n",
    "  all_bits_one_full: bool  # Set if all-bits-one exponent is all nonfinite\n",
    "  has_nz: bool  # Set if format has negative 0. If false, assume 0x80 is NaN\n",
    "  #               following e.g. LLVM Float8E5M2FNUZ\n",
    "  has_infs : bool # Set if format has +/- infinity\n",
    "\n",
    "\n",
    "def format_info_p3109(precision) -> FormatInfo:\n",
    "  significandBits = precision - 1\n",
    "  expBits = 8 - precision # precision includes leading 0/1\n",
    "\n",
    "  # formula: emax = fix(2 ** (7-p) - 1)\n",
    "  emax = int(np.fix(2 ** (7-precision) - 1))\n",
    "\n",
    "  all_bits_one_full = precision <= 1\n",
    "\n",
    "  # bias is derived from emax, as in IEEE 754\n",
    "  if (not all_bits_one_full) and (expBits > 0):\n",
    "    expBias = emax + 1\n",
    "  else:\n",
    "    expBias = emax\n",
    "\n",
    "  has_infs = True\n",
    "  has_nz = False\n",
    "  return FormatInfo(f'p3109_p{precision}', precision, emax, significandBits, expBits, expBias, all_bits_one_full, has_nz, has_infs)\n",
    "\n",
    "format_info_ocp_e5m2 = FormatInfo(name='ocp_e5m2', precision=3, emax=(1<<4)-1, significandBits=2, expBits=5, expBias=(1<<4)-1, all_bits_one_full=True, has_nz=True, has_infs=True)\n",
    "format_info_ocp_e4m3 = FormatInfo(name='ocp_e4m3', precision=4, emax=(1<<3), significandBits=3, expBits=4, expBias=(1<<3)-1, all_bits_one_full=False, has_nz=True, has_infs=False)\n",
    "\n",
    "other_formats = [format_info_ocp_e5m2, format_info_ocp_e4m3]\n",
    "p3109_formats = [format_info_p3109(i) for i in range(1,9)]\n",
    "p3109_and_ocp_formats = p3109_formats + other_formats\n",
    "\n",
    "display(pandas.DataFrame(p3109_and_ocp_formats).sort_values(by='precision'))\n",
    "print('precision: Number of significand bits (including implicit leading bit encoded by exponent>0)')\n",
    "print('has_nz: Has negative zero (following e.g. LLVM Float8E5M2FNUZ)')\n",
    "print('all_bits_one_full: An all-bits-one exponent corresponds to 2**(p-1) codes.',\n",
    "      'If all of those codes are used for specials, e.g. Inf/NaN, this field is True.')"
   ]
  },
  {
   "cell_type": "markdown",
   "id": "cff15640",
   "metadata": {},
   "source": [
    "## FloatValue\n",
    "\n",
    "A floating-point value in detail: bit fields, classification, printing\n"
   ]
  },
  {
   "cell_type": "code",
   "execution_count": null,
   "id": "c68d6f33",
   "metadata": {
    "colab": {
     "base_uri": "https://localhost:8080/"
    },
    "id": "2KBrFhqQHYbS",
    "outputId": "4706a007-5876-4240-be33-67624a6be656"
   },
   "outputs": [],
   "source": [
    "class FloatClass(Enum):\n",
    "  NORMAL = 1     # A positive or negative normalized non-zero value\n",
    "  SUBNORMAL = 2\t # A positive or negative subnormal value\n",
    "  ZERO\t= 3      # A positive or negative subnormal zero value\n",
    "  INFINITE = 4\t # A positive or negative infinity\n",
    "  NAN = 5        # A NaN\n",
    "\n",
    "\n",
    "@dataclass\n",
    "class FloatValue:\n",
    "  \"\"\"\n",
    "  A floating-point value in detail\n",
    "  \"\"\"\n",
    "  ival: int           # Integer code point\n",
    "  fval: float         # Value [Note 1]\n",
    "  valstr: str         # Value as string, assuming all code points finite\n",
    "  exp: int            # Raw exponent without bias\n",
    "  expval: int         # Exponent, bias subtracted\n",
    "  significand: int    # Significand (significandissa) as an integer\n",
    "  fsignificand: float # Significand as a float in the range [0,2)\n",
    "  signbit: int        # Sign bit: 1 => negative, 0 => positive\n",
    "  signstr: str        # String representation of sign\n",
    "  fclass: bool        # See enum FloatClass\n",
    "  fi: FormatInfo      # Backlink to FormatInfo\n",
    "\n",
    "  # [Note 1]\n",
    "  # Values are assumed to be exactly round-trippable to python float == float64.\n",
    "  # This is true for all <64bit formats known in 2023.\n",
    "\n",
    "def decode_f8(i : int, fi : FormatInfo) -> FloatValue:\n",
    "  signbit = 1 if i & 0x80 else 0\n",
    "  sign = -1 if signbit else 1\n",
    "  signstr = '-' if sign == -1 else '+'\n",
    "\n",
    "  exp = (i & 0x7f) >> fi.significandBits\n",
    "  significand = i & ((1 << fi.significandBits) - 1)\n",
    "\n",
    "  isnormal = exp != 0\n",
    "  if isnormal:\n",
    "    expval = exp-fi.expBias\n",
    "    fsignificand = 1.0 + significand * 2 ** -fi.significandBits\n",
    "  else:\n",
    "    expval = 1-fi.expBias\n",
    "    fsignificand = significand * 2 ** -fi.significandBits\n",
    "\n",
    "  # val: the raw value excluding specials\n",
    "  val = sign * fsignificand * 2 ** expval\n",
    "\n",
    "  # valstr: string representation of value in base 10\n",
    "  # If the representation does not roundtrip to the value,\n",
    "  # it is preceded by a \"~\" to indicate \"approximately equal to\"\n",
    "  valstr = f'{val}'\n",
    "  if len(valstr) > 14:\n",
    "    valstr = f'{val:.8}'\n",
    "  if float(valstr) != val:\n",
    "    valstr = '~'+valstr\n",
    "\n",
    "  fclass = None\n",
    "  if val == 0:\n",
    "    fclass = FloatClass.ZERO\n",
    "  elif isnormal:\n",
    "    fclass = FloatClass.NORMAL\n",
    "  else:\n",
    "    fclass = FloatClass.SUBNORMAL\n",
    "  \n",
    "  fval = val\n",
    "  if fi.all_bits_one_full and fi.significandBits > 1:\n",
    "    # all_bits_one exponent has NaNs where it doesn't have infs\n",
    "    if expval == fi.emax + 1:\n",
    "      if fi.has_infs and significand == 0:\n",
    "        fclass = FloatClass.INFINITE\n",
    "        fval = -np.inf if signbit else np.inf\n",
    "      else:\n",
    "        fclass = FloatClass.NAN\n",
    "        fval = np.nan\n",
    "  elif fi.has_infs:\n",
    "    if i == 0xff:\n",
    "      fclass = FloatClass.INFINITE\n",
    "      fval = -np.inf\n",
    "    elif i == 0x7f:\n",
    "      fclass = FloatClass.INFINITE\n",
    "      fval = np.inf\n",
    "  else:\n",
    "    if i == 0xff:\n",
    "      fclass = FloatClass.NAN\n",
    "      fval = np.nan\n",
    "    elif i == 0x7f:\n",
    "      fclass = FloatClass.NAN\n",
    "      fval = np.nan\n",
    "\n",
    "  if i == 0x80:\n",
    "    if fi.has_nz:\n",
    "      fval = -0.0\n",
    "    else:\n",
    "      fclass = FloatClass.NAN\n",
    "      fval = np.nan\n",
    "  \n",
    "  # update valstr if a special value\n",
    "  if fclass not in (FloatClass.ZERO, FloatClass.SUBNORMAL, FloatClass.NORMAL):\n",
    "    valstr = str(fval)\n",
    "\n",
    "  return FloatValue(i,fval,valstr,\n",
    "                    exp,expval,significand,fsignificand,signbit,signstr,\n",
    "                    fclass,fi)\n",
    "\n",
    "for fi in (format_info_p3109(precision=3), format_info_ocp_e5m2):\n",
    "  print(fi.name)\n",
    "  for ival in (0x00, 0x01, 0x40, 0x80, 0x7e, 0x7f):\n",
    "    print(decode_f8(ival, format_info_ocp_e5m2), sep='\\n')\n",
    "\n",
    "# Spot-check p3\n",
    "fi = format_info_p3109(3)\n",
    "dec = lambda ival: decode_f8(ival, fi).fval\n",
    "fclass = lambda ival: decode_f8(ival, fi).fclass\n",
    "assert dec(0x01) == 2.0 ** -17\n",
    "assert dec(0x40) == 1.0\n",
    "assert np.isnan(dec(0x80))\n",
    "assert dec(0xff) == -np.inf\n",
    "assert np.floor(np.log2(dec(0x7e))) == fi.emax\n",
    "\n",
    "# Spot-check e5m2\n",
    "fi = format_info_ocp_e5m2\n",
    "assert dec(0x01) == 2.0 ** -16\n",
    "assert dec(0x40) == 2.0\n",
    "assert dec(0x80) == 0.0 and np.signbit(dec(0x80))\n",
    "assert dec(0xfc) == -np.inf\n",
    "assert np.isnan(dec(0x7f))\n",
    "assert dec(0x7c) == np.inf\n",
    "assert np.floor(np.log2(dec(0x7b))) == fi.emax\n",
    "assert fclass(0x80) == FloatClass.ZERO\n",
    "assert fclass(0x00) == FloatClass.ZERO\n",
    "\n",
    "# Spot-check e4m3\n",
    "fi = format_info_ocp_e4m3\n",
    "assert dec(0x01) == 2.0 ** -9\n",
    "assert dec(0x40) == 2.0\n",
    "assert dec(0x80) == 0.0 and np.signbit(dec(0x80))\n",
    "assert np.isnan(dec(0x7f))\n",
    "assert np.floor(np.log2(dec(0x7e))) == fi.emax"
   ]
  },
  {
   "cell_type": "markdown",
   "id": "381d6969",
   "metadata": {},
   "source": [
    "## Enumerate all values for a given format"
   ]
  },
  {
   "cell_type": "code",
   "execution_count": null,
   "id": "ba3737e1",
   "metadata": {},
   "outputs": [],
   "source": [
    "# Get the FormatInfo\n",
    "fi = format_info_p3109(precision=4)\n",
    "print(fi)\n",
    "\n",
    "# Generate values as a list of FloatValues\n",
    "values = [decode_f8(i, fi) for i in range(256)]\n",
    "\n",
    "# Convert to dataframe (and drop the FormatInfo)\n",
    "pandas.DataFrame(values).set_index('ival').drop(columns=[\"fi\"])"
   ]
  },
  {
   "cell_type": "markdown",
   "id": "cf476355",
   "metadata": {},
   "source": [
    "## Printing\n",
    "\n",
    "String formatting for binary16 and F8 values"
   ]
  },
  {
   "cell_type": "code",
   "execution_count": null,
   "id": "515421cc",
   "metadata": {
    "colab": {
     "base_uri": "https://localhost:8080/"
    },
    "id": "qTuC10rlFfNg",
    "outputId": "4fb02ae2-e885-419a-8752-60eeb595f2a5"
   },
   "outputs": [],
   "source": [
    "import struct\n",
    "def b16_str(val) -> tuple[str,str]:\n",
    "  \"\"\"\n",
    "  Represent VAL in binary16.\n",
    "\n",
    "  If val does not convert exactly to binary16,\n",
    "  returns \"<Not16:{val}>\"\n",
    "  \"\"\"\n",
    "  with np.errstate(over=\"ignore\"):\n",
    "    b16 = np.float16(val)\n",
    "\n",
    "  if float(b16) != val and not np.isfinite(b16):\n",
    "    # Finite, but not representable in float16\n",
    "    return f'<Not16:{val}>',''\n",
    "  b16_int = struct.unpack('!H',struct.pack('!e',b16))[0]\n",
    "\n",
    "  # bitstr is of the form 0_00000_1100000000\n",
    "  s = f'{b16_int:016b}'\n",
    "  e_str = s[1:6]\n",
    "  m_str = s[6:]\n",
    "  bitstr = f'{s[0]}_{e_str}_{m_str}'\n",
    "\n",
    "  # pow2str is of the form '+0b0.1100000000*2^-15', or '' for nonfinite values\n",
    "  e = int(e_str,2) - 15\n",
    "  m = int(m_str,2)\n",
    "  leading_bit = 0 if e == -15 else 1\n",
    "  signstr= '-' if s[0] == '1' else '+'\n",
    "  if np.isfinite(b16):\n",
    "    pow2str = f'{signstr}0b{leading_bit}.{m:010b}*2^{e}'\n",
    "  else:\n",
    "    pow2str = ''\n",
    "  return bitstr,pow2str\n",
    "\n",
    "for v in [3*2**-14, 3*2**-15, 3*2**-16, 3*2**-18]:\n",
    "  print(b16_str(v))\n",
    "print(b16_str(-np.inf))\n",
    "print(b16_str(2 ** 16))\n",
    "assert b16_str(3*2**-16) == ('0_00000_1100000000', '+0b0.1100000000*2^-15')"
   ]
  },
  {
   "cell_type": "markdown",
   "id": "3f1ba181",
   "metadata": {},
   "source": [
    "#### Render with underscores separating s_e_m\n",
    "\n",
    "E.g `0_1011_110`.  For formats with zero significand bits or zero exponent bits, we use `0_1011110_` or `0__10111110`."
   ]
  },
  {
   "cell_type": "code",
   "execution_count": null,
   "id": "c6bae54c",
   "metadata": {},
   "outputs": [],
   "source": [
    "def str_bits_with_underscores(fv):\n",
    "  # 0_1011110_\n",
    "  if fv.fi.significandBits == 0:\n",
    "    return f'{fv.signbit}_{fv.exp:0{fi.expBits}b}_'\n",
    "\n",
    "  # 0__1011110\n",
    "  if fv.fi.expBits == 0:\n",
    "    return f'{fv.signbit}__{fv.significand:0{fi.significandBits}b}'\n",
    "\n",
    "  # 0_101_1110\n",
    "  return f'{fv.signbit}_{fv.exp:0{fi.expBits}b}_{fv.significand:0{fi.significandBits}b}'\n",
    "\n",
    "fi = format_info_p3109(3)\n",
    "assert str_bits_with_underscores(decode_f8(0x41, fi)) == '0_10000_01'\n",
    "\n",
    "fi = format_info_p3109(1)\n",
    "assert str_bits_with_underscores(decode_f8(0x41, fi)) == '0_1000001_'\n",
    "\n",
    "fi = format_info_p3109(8)\n",
    "assert str_bits_with_underscores(decode_f8(0x41, fi)) == '0__1000001'\n"
   ]
  },
  {
   "cell_type": "code",
   "execution_count": null,
   "id": "d012c91f",
   "metadata": {
    "colab": {
     "base_uri": "https://localhost:8080/"
    },
    "id": "sfIg83cNE9VR",
    "lines_to_next_cell": 2,
    "outputId": "aed864e5-222e-4e8b-f371-c92184442b45"
   },
   "outputs": [],
   "source": [
    "def str_tablerow(fv, show_b16_info=True):\n",
    "  \"\"\"\n",
    "  Create a string of the form\n",
    "    0x41 0_10000_01 = +0b1.01*2^0   = 1.25\n",
    "  optionally adding binary16 info\n",
    "    0x41 0_10000_01 = +0b1.01*2^0   = 0_01111_0100000000 +0b1.0100000000*2^0 = 1.25\n",
    "  \"\"\"\n",
    "  text = []\n",
    "\n",
    "  # 0x45 0_1000_101\n",
    "  text.append(f'0x{fv.ival:02x} {str_bits_with_underscores(fv)}')\n",
    "  \n",
    "  finite_nonzero = np.isfinite(fv.fval) and fv.fval != 0\n",
    "  \n",
    "  #  = +0b1.101*2^-7 =\n",
    "  if finite_nonzero:\n",
    "    b = '0' if fv.fclass == FloatClass.SUBNORMAL else '1'\n",
    "    binary_pow2 = f'{fv.signstr}0b{b}.{fv.significand:0{fi.significandBits}b}*2^{fv.expval:<3}'\n",
    "    text.append(binary_pow2)\n",
    "\n",
    "  if show_b16_info and finite_nonzero:\n",
    "    b16_binary_str,b16_bscistr = b16_str(fv.fval)\n",
    "    text.append(f'{b16_binary_str} {b16_bscistr}')\n",
    "\n",
    "  # 1.125\n",
    "  text.append(fv.valstr)\n",
    "\n",
    "  # Return tuple\n",
    "  return \" = \".join(text)\n",
    "\n",
    "fi = format_info_p3109(3)\n",
    "for i in (0x00, 0x01, 0x07, 0x21, 0x40, 0x41, 0x7e, 0x7f, 0x80, 0x81,0xfe,0xff):\n",
    "  print(str_tablerow(decode_f8(i, fi), show_b16_info=True))\n"
   ]
  },
  {
   "cell_type": "markdown",
   "id": "d87ce02e",
   "metadata": {},
   "source": [
    "## Enumerate all values for a given precision"
   ]
  },
  {
   "cell_type": "code",
   "execution_count": null,
   "id": "66554e1c",
   "metadata": {
    "colab": {
     "base_uri": "https://localhost:8080/",
     "height": 423
    },
    "id": "U3CnHN970-TS",
    "outputId": "030ca3bc-4aec-406b-ef68-a848b97625d4"
   },
   "outputs": [],
   "source": [
    "fi = format_info_p3109(precision=4)\n",
    "values = [decode_f8(i, fi) for i in range(256)]\n",
    "\n",
    "# Copy from FloatValue above\n",
    "print(\"\"\"\n",
    "  ival: int           # Integer code point\n",
    "  fval: float         # Value [Note 1]\n",
    "  valstr: str         # Value as string, assuming all code points finite\n",
    "  exp: int            # Raw exponent without bias\n",
    "  expval: int         # Exponent, bias subtracted\n",
    "  significand: int    # Significand (mantissa) as an integer\n",
    "  fsignificand: float # Significand as a float in the range [0,2)\n",
    "  signbit: int        # Sign bit: 1 => negative, 0 => positive\n",
    "  signstr: str        # String representation of sign\n",
    "  fclass: FloatClass  # See FloatClass\n",
    "\"\"\")\n",
    "pandas.DataFrame(values).drop(columns=['fi']).set_index('ival')"
   ]
  },
  {
   "cell_type": "code",
   "execution_count": null,
   "id": "d1e909c7",
   "metadata": {
    "colab": {
     "base_uri": "https://localhost:8080/",
     "height": 540
    },
    "id": "Klbai4Hi0Pb6",
    "outputId": "ad103803-8eca-48a8-ac15-249ca93d180a"
   },
   "outputs": [],
   "source": [
    "\n",
    "import collections\n",
    "def nt(**kwargs):\n",
    "    fields = kwargs.keys()\n",
    "    ty = collections.namedtuple('NT', fields)\n",
    "    return ty(*(kwargs[f] for f in fields))\n",
    "\n",
    "def collect_stats(fi : FormatInfo):\n",
    "  # Generate all values\n",
    "  values = [decode_f8(i, fi) for i in range(256)]\n",
    "  df = pandas.DataFrame(values)\n",
    "  \n",
    "  # Extract format information parameters\n",
    "  E=fi.expBits\n",
    "  M=fi.significandBits\n",
    "\n",
    "  # Compute statistics: lt1,ge1\n",
    "  fval = df['fval']\n",
    "  total_01 = fval.between(0, 1, inclusive='neither').sum()\n",
    "  total_1Inf = fval.between(1, np.inf, inclusive='left').sum()\n",
    "\n",
    "  # Compute statistics: maxFinite,minFinite\n",
    "  finite_vals = fval[np.isfinite(fval)]\n",
    "  maxFinite = finite_vals.loc[finite_vals.idxmax()]\n",
    "  minFinite = finite_vals.loc[finite_vals.idxmin()]\n",
    "\n",
    "  # Compute statistics: maxNormal,minNormal\n",
    "  normal_vals = fval[(df['fclass'] == FloatClass.NORMAL) & (fval>0)]\n",
    "  maxNormal = normal_vals.loc[normal_vals.idxmax()] if normal_vals.any() else np.nan\n",
    "  minNormal = normal_vals.loc[normal_vals.idxmin()] if normal_vals.any() else np.nan\n",
    "\n",
    "  # Compute statistics: minSubnormal\n",
    "  pos_subnormal = fval[(df['fclass'] == FloatClass.SUBNORMAL) & (fval>0)]\n",
    "  maxSubnormal = pos_subnormal.loc[pos_subnormal.idxmax()] if pos_subnormal.any() else np.nan\n",
    "  minSubnormal = pos_subnormal.loc[pos_subnormal.idxmin()] if pos_subnormal.any() else np.nan\n",
    "\n",
    "  # Compute roundtrips: rt16, rt32\n",
    "  with np.errstate(over='ignore'):\n",
    "    rt16 = (np.float64(np.float16(fval)) == np.float64(fval)) | ~np.isfinite(fval)\n",
    "    rt32 = (np.float64(np.float32(fval)) == np.float64(fval)) | ~np.isfinite(fval)\n",
    "\n",
    "  rt16 = rt16.all()\n",
    "  rt32 = rt32.all()\n",
    "  assert rt32 # If not, we should include rt32 in the table\n",
    "  \n",
    "  # Assemble tuple\n",
    "  return nt(name=fi.name,P=fi.precision,E=E,M=M,\n",
    "            lt1=total_01,ge1=total_1Inf,\n",
    "            rt16=rt16,\n",
    "            maxFinite=maxFinite,minFinite=minFinite,\n",
    "            maxNormal=maxNormal,minNormal=minNormal,\n",
    "            minSubnormal=minSubnormal,maxSubnormal=maxSubnormal)\n",
    "\n",
    "stats = [collect_stats(fi) for fi in p3109_and_ocp_formats]\n",
    "df = pandas.DataFrame(stats)\n",
    "df"
   ]
  },
  {
   "cell_type": "markdown",
   "id": "59de1636",
   "metadata": {},
   "source": [
    "## Render values as exact fractions * 2^e\n"
   ]
  },
  {
   "cell_type": "code",
   "execution_count": null,
   "id": "1d4d7737",
   "metadata": {
    "colab": {
     "base_uri": "https://localhost:8080/",
     "height": 540
    },
    "id": "-xdGU0pInm0d",
    "outputId": "1dc03db2-a5b4-4565-c95b-6d81d86eec81"
   },
   "outputs": [],
   "source": [
    "import fractions\n",
    "\n",
    "def pow2str(v):\n",
    "  \"\"\"\n",
    "  Render finite values as string (p/q) x2^e \n",
    "  \"\"\"\n",
    "  if not np.isfinite(v):\n",
    "    return str(v)\n",
    "  \n",
    "  s = np.sign(v)\n",
    "  x = np.abs(v)\n",
    "  e = int(np.floor(np.log2(x)))\n",
    "  mant = fractions.Fraction(x * 2**-e)\n",
    "  return ('-' if s < 0 else '') + f'{mant}*2^{e:d}'\n",
    "\n",
    "df_pow2 = df.copy()\n",
    "for field in (\"maxFinite\",\"minFinite\",\"maxNormal\",\"minNormal\",\"minSubnormal\",\"maxSubnormal\"):\n",
    "  df_pow2[field] = df_pow2[field].map(pow2str)\n",
    "df_pow2"
   ]
  },
  {
   "cell_type": "markdown",
   "id": "905e08b4",
   "metadata": {},
   "source": [
    "## Generate LaTeX table of min/max values"
   ]
  },
  {
   "cell_type": "code",
   "execution_count": null,
   "id": "1fb441a8",
   "metadata": {},
   "outputs": [],
   "source": [
    "df_pow2[[\"name\",\"minSubnormal\",\"maxSubnormal\",\"minNormal\",\"maxNormal\",\"maxFinite\"]]\n"
   ]
  },
  {
   "cell_type": "code",
   "execution_count": null,
   "id": "63225c58",
   "metadata": {},
   "outputs": [],
   "source": [
    "tbl3 = df[[\"name\",\"minSubnormal\",\"maxSubnormal\",\"minNormal\",\"maxNormal\",\"maxFinite\"]]\n",
    "header=[\"Format\",\"minSubnormal\",\"maxSubnormal\",\"minNormal\",\"maxNormal\",\"maxFinite\"]\n",
    "latex = tbl3.to_latex(header=header, index=False, float_format=pow2str)\n",
    "\n",
    "import re\n",
    "latex = re.sub('([\\d./]+)\\*2\\^([\\d-]+)','$\\\\\\\\binaryfloat{\\\\1}{\\\\2}$', latex)\n",
    "latex = latex.replace('p3109_p', 'p')\n",
    "latex = latex.replace('ocp_', 'ocp\\_')\n",
    "print('% File: tbl-extremalvalues.tex')\n",
    "print('% Generated from https://github.com/P3109/Public/blob/main/Value%20Tables/make-value-tables.ipynb')\n",
    "print(latex)"
   ]
  },
  {
   "cell_type": "markdown",
   "id": "b7f06edd",
   "metadata": {},
   "source": [
    "## Value Tables: LaTeX"
   ]
  },
  {
   "cell_type": "code",
   "execution_count": null,
   "id": "4399df97",
   "metadata": {},
   "outputs": [],
   "source": [
    "def table_style(fv):\n",
    "  if fv.fclass == FloatClass.SUBNORMAL:\n",
    "     return \"subnormal\"\n",
    "  \n",
    "  if fv.fclass == FloatClass.NORMAL:\n",
    "     return \"normal\"\n",
    "\n",
    "  if fv.fclass == FloatClass.ZERO and not fv.signbit:\n",
    "     return \"normal\"\n",
    "\n",
    "  # Everyting else is special\n",
    "  return \"special\"\n",
    "\n",
    "assert table_style(decode_f8(0x80, format_info_ocp_e5m2)) == \"special\"\n",
    "assert table_style(decode_f8(0x01, format_info_ocp_e5m2)) == \"subnormal\"\n",
    "assert table_style(decode_f8(0x7f, format_info_ocp_e5m2)) == \"special\"\n",
    "\n",
    "\n",
    "def mktbl(fi : FormatInfo, file):\n",
    "  # Make tables\n",
    "  cols = 4\n",
    "  rows = 256//cols\n",
    "\n",
    "  for i in range(0,rows):\n",
    "    out_row = []\n",
    "    for n in range(i,256,rows):\n",
    "      fv = decode_f8(n, fi)\n",
    "      text = str_tablerow(fv, show_b16_info=False)\n",
    "      style = table_style(fv)\n",
    "\n",
    "      # 2^-7  -> \\pow{-7}\n",
    "      text = re.sub(r'\\*2\\^([-0-9]+)', r'\\\\pow{\\1}', text)\n",
    "      # 1.234E7  -> \\e{1.234}{7}\n",
    "      text = re.sub(r'([0-9.+-]+)[eE]([0-9]+)', r'\\\\e{\\1}{\\2}', text)\n",
    "      # 1.234E-7  -> \\e{1.234}{-7}\n",
    "      text = re.sub(r'([0-9.+-]+)[eE]-([0-9]+)', r'\\\\e{\\1}{\\\\neg{\\2}}', text)\n",
    "      # -1.234 EOL  -> \\f{-1.234}\n",
    "      text = re.sub(r'([0-9.+-]+)$', r'\\\\f{\\1}', text)\n",
    "      #\\f{-1.234} -> \\f{\\neg{1.234}}\n",
    "      text = re.sub(r'\\\\(f|pow)\\{-([0-9.]+)\\}', r'\\\\\\1{\\\\neg{\\2}}', text)\n",
    "      \n",
    "      # ^0x44  -> 0x44~\n",
    "      text = re.sub('^(0x[0-9a-f]+) ', '\\\\1 = ', text)\n",
    "      text = text.replace('_', '\\_')\n",
    "      text = text.replace('= ~', '\\\\approx ')\n",
    "      out_row += [f'\\\\{style}{{{text}}}']\n",
    "    print(*out_row, sep=\"&\\n\", end=r'\\\\'+\"\\n\", file=file)\n",
    "\n",
    "import pathlib\n",
    "dir = pathlib.Path(\"latex\")\n",
    "dir.mkdir(parents=True, exist_ok=True)\n",
    "\n",
    "for fi in p3109_and_ocp_formats:\n",
    "  filename = f\"value-table-{fi.name}.tex\"\n",
    "  print(f'Saving to {dir / filename}')\n",
    "  with open(dir / filename, \"w\") as f:\n",
    "    print('% Autogenerated from make-value-tables.ipynb at https://github.com/P3109/Public', file=f)\n",
    "    mktbl(fi, f)\n"
   ]
  },
  {
   "cell_type": "markdown",
   "id": "0c374cc7",
   "metadata": {},
   "source": [
    "## Generate HTML Value Tables"
   ]
  },
  {
   "cell_type": "code",
   "execution_count": null,
   "id": "7a2717ea",
   "metadata": {
    "colab": {
     "base_uri": "https://localhost:8080/",
     "height": 143
    },
    "id": "ZgGpbJaeR-tM",
    "outputId": "f433e2ce-378a-48a3-8f3f-573e7106753c"
   },
   "outputs": [],
   "source": [
    "def mktbl(fi : FormatInfo):\n",
    "  # Make tables\n",
    "  cols = 4\n",
    "  rows = 256//cols\n",
    "\n",
    "  style = f'''\n",
    "  body {{\n",
    "  }}\n",
    "  table {{\n",
    "    width:100%;\n",
    "    margin: 0pt;\n",
    "    font-family: monospace;\n",
    "    font-size: tiny;\n",
    "    border-collapse: collapse;\n",
    "  }}\n",
    "\n",
    "  tr.blankrow {{\n",
    "    height: 4ex;\n",
    "    vertical-align: top;\n",
    "  }}\n",
    "  \n",
    "  td {{\n",
    "    text-align: left;\n",
    "    border: solid 2px #ccc;\n",
    "    width: {98/cols}%;\n",
    "  }}\n",
    "  \n",
    "  .special {{\n",
    "    color: #874723;\n",
    "  }}\n",
    "  \n",
    "  .subnormal {{\n",
    "    color: #012187;\n",
    "  }}\n",
    "  \n",
    "  .normal {{\n",
    "  }}\n",
    "  \n",
    "  pre {{\n",
    "    margin: 1pt 1pt 13pt 13pt;\n",
    "    display: inline;\n",
    "  }}\n",
    "'''\n",
    "\n",
    "  title = f\"FP8 Value Table, {fi.name}\"\n",
    "  a = airium.Airium()\n",
    "  a('<!DOCTYPE html>')\n",
    "  with a.html():\n",
    "    with a.head():\n",
    "        # a.meta('http-equiv=\"refresh\" content=\"1\"') # for rapid testing\n",
    "        a.meta(charset=\"utf-8\")\n",
    "        a.title(_t=title)\n",
    "        a.style(_t=style)\n",
    "\n",
    "    with a.body():\n",
    "        a.h3(_t=title)\n",
    "\n",
    "        with a.table():\n",
    "          for i in range(0,rows):\n",
    "            trklass='blankrow' if i > 0 and i%16 == 0 else ''\n",
    "            with a.tr(klass=trklass):\n",
    "              for n in range(i,256,rows):\n",
    "                fv = decode_f8(n, fi)\n",
    "                text = str_tablerow(fv, show_b16_info=False)\n",
    "                a.td(klass=table_style(fv)).pre(_t=text)\n",
    "\n",
    "  return str(a)\n",
    "\n",
    "import pathlib\n",
    "dir = pathlib.Path(\"html\")\n",
    "dir.mkdir(parents=True, exist_ok=True)\n",
    "\n",
    "a = airium.Airium()\n",
    "a('<!DOCTYPE html>')\n",
    "a('<!-- Autogenerated from make-value-tables.ipynb -->')\n",
    "a.head().title(_t='F8 value tables')\n",
    "with a.body():\n",
    "  a.h2(_t='F8 value tables')\n",
    "  with a.ol():\n",
    "    for fi in p3109_and_ocp_formats:\n",
    "      html_str = mktbl(fi)\n",
    "      filename = f\"value-table-{fi.name}.html\"\n",
    "      print(f'Saving to {dir / filename}')\n",
    "      a.li().a(href=filename).code(_t=fi.name)\n",
    "      with open(dir / filename, \"w\") as f:\n",
    "        f.write(html_str)\n",
    "\n",
    "index_filename = dir / 'index.html'\n",
    "print(f'Saving {index_filename}')\n",
    "with open(index_filename, \"w\") as index:\n",
    "  index.write(str(a))\n"
   ]
  },
  {
   "cell_type": "code",
   "execution_count": null,
   "id": "6ece5085",
   "metadata": {
    "colab": {
     "base_uri": "https://localhost:8080/",
     "height": 1000
    },
    "id": "IJihmWKHkFwb",
    "outputId": "e6f31b52-c8b3-4bf7-b385-4d45548a8920"
   },
   "outputs": [],
   "source": [
    "HTML(mktbl(format_info_p3109(1)))"
   ]
  },
  {
   "cell_type": "code",
   "execution_count": null,
   "id": "17244220",
   "metadata": {
    "colab": {
     "base_uri": "https://localhost:8080/",
     "height": 1000
    },
    "id": "5pnqFvUrkFfT",
    "outputId": "4571f82a-6071-41f0-8d7a-d3f8f24748c7"
   },
   "outputs": [],
   "source": [
    "HTML(mktbl(format_info_p3109(2)))"
   ]
  },
  {
   "cell_type": "code",
   "execution_count": null,
   "id": "2e037dc5",
   "metadata": {
    "colab": {
     "base_uri": "https://localhost:8080/",
     "height": 1000
    },
    "id": "ssqJJBSJxWcI",
    "outputId": "5c971172-5522-4a76-c47e-21868b290dd2"
   },
   "outputs": [],
   "source": [
    "HTML(mktbl(format_info_p3109(3)))"
   ]
  },
  {
   "cell_type": "code",
   "execution_count": null,
   "id": "01039313",
   "metadata": {
    "colab": {
     "base_uri": "https://localhost:8080/",
     "height": 1000
    },
    "id": "92CL6vGkx5xQ",
    "outputId": "72bb8d5d-a81f-45a5-f4df-031d229f0069"
   },
   "outputs": [],
   "source": [
    "HTML(mktbl(format_info_p3109(4)))"
   ]
  },
  {
   "cell_type": "code",
   "execution_count": null,
   "id": "d02cccc2",
   "metadata": {
    "colab": {
     "base_uri": "https://localhost:8080/",
     "height": 1000
    },
    "id": "zueqFI51x783",
    "outputId": "d5eab0b6-f6dc-4e4b-cd6a-6dc47db3ec50"
   },
   "outputs": [],
   "source": [
    "HTML(mktbl(format_info_p3109(5)))"
   ]
  },
  {
   "cell_type": "code",
   "execution_count": null,
   "id": "5ce16624",
   "metadata": {
    "colab": {
     "base_uri": "https://localhost:8080/",
     "height": 1000
    },
    "id": "xJT-se-wUhOx",
    "outputId": "364a0930-09c3-4457-c588-15a9b464938f"
   },
   "outputs": [],
   "source": [
    "HTML(mktbl(format_info_p3109(6)))"
   ]
  },
  {
   "cell_type": "code",
   "execution_count": null,
   "id": "55e1571e",
   "metadata": {
    "colab": {
     "base_uri": "https://localhost:8080/",
     "height": 1000
    },
    "id": "_9zoPZhIUkSG",
    "outputId": "884864cb-e84e-4c29-a4e3-75a5e2f319e4"
   },
   "outputs": [],
   "source": [
    "HTML(mktbl(format_info_p3109(7)))"
   ]
  },
  {
   "cell_type": "code",
   "execution_count": null,
   "id": "b2935aab",
   "metadata": {
    "colab": {
     "base_uri": "https://localhost:8080/",
     "height": 1000
    },
    "id": "t2SH_fXzUpKu",
    "outputId": "e88dd804-debe-4728-f7ae-f8519bf78ef8"
   },
   "outputs": [],
   "source": [
    "HTML(mktbl(format_info_p3109(8)))"
   ]
  },
  {
   "cell_type": "markdown",
   "id": "eebe2efb",
   "metadata": {
    "id": "gM6eilps3X-k"
   },
   "source": [
    "## Format tables: OCP formats"
   ]
  },
  {
   "cell_type": "code",
   "execution_count": null,
   "id": "a894ac20",
   "metadata": {
    "colab": {
     "base_uri": "https://localhost:8080/",
     "height": 1000
    },
    "id": "8GzhrKcf3Y1O",
    "outputId": "8b27f4cf-1c6e-409e-e3bd-18b07148f001"
   },
   "outputs": [],
   "source": [
    "HTML(mktbl(format_info_ocp_e5m2))"
   ]
  },
  {
   "cell_type": "code",
   "execution_count": null,
   "id": "97a7a794",
   "metadata": {
    "colab": {
     "base_uri": "https://localhost:8080/",
     "height": 1000
    },
    "id": "Uamra4ke3yFS",
    "outputId": "f925c731-9159-423d-a222-2c8f89ae930c"
   },
   "outputs": [],
   "source": [
    "HTML(mktbl(format_info_ocp_e4m3))"
   ]
  },
  {
   "cell_type": "markdown",
   "id": "fe7ff140",
   "metadata": {},
   "source": [
    "## Misc"
   ]
  },
  {
   "cell_type": "code",
   "execution_count": null,
   "id": "05d03972",
   "metadata": {
    "colab": {
     "base_uri": "https://localhost:8080/"
    },
    "id": "71lUSbqJ46MV",
    "outputId": "e16f10d7-d5c7-4498-f607-3f204c38f5cb"
   },
   "outputs": [],
   "source": [
    "# Demonstrating use of \"log(0)\" to create infs\n",
    "import torch\n",
    "torch.log(torch.rand((10,)) > 0.5)"
   ]
  }
 ],
 "metadata": {
  "jupytext": {
   "main_language": "python"
  },
  "kernelspec": {
   "display_name": "Python 3",
   "name": "python3"
  },
  "language_info": {
   "codemirror_mode": {
    "name": "ipython",
    "version": 3
   },
   "file_extension": ".py",
   "mimetype": "text/x-python",
   "name": "python",
   "nbconvert_exporter": "python",
   "pygments_lexer": "ipython3",
   "version": "3.10.4"
  }
 },
 "nbformat": 4,
 "nbformat_minor": 5
}
